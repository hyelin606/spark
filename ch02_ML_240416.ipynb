{
  "nbformat": 4,
  "nbformat_minor": 0,
  "metadata": {
    "colab": {
      "provenance": [],
      "include_colab_link": true
    },
    "kernelspec": {
      "name": "python3",
      "display_name": "Python 3"
    },
    "language_info": {
      "name": "python"
    }
  },
  "cells": [
    {
      "cell_type": "markdown",
      "metadata": {
        "id": "view-in-github",
        "colab_type": "text"
      },
      "source": [
        "<a href=\"https://colab.research.google.com/github/hyelin606/spark/blob/main/ch02_ML_240416.ipynb\" target=\"_parent\"><img src=\"https://colab.research.google.com/assets/colab-badge.svg\" alt=\"Open In Colab\"/></a>"
      ]
    },
    {
      "cell_type": "markdown",
      "source": [
        "## Google Drive 연동"
      ],
      "metadata": {
        "id": "_SQdsOoEpHuw"
      }
    },
    {
      "cell_type": "code",
      "execution_count": 36,
      "metadata": {
        "colab": {
          "base_uri": "https://localhost:8080/"
        },
        "id": "rGjr66RepFgV",
        "outputId": "d82d16ec-d80f-446f-94b0-8a21213b8d45"
      },
      "outputs": [
        {
          "output_type": "stream",
          "name": "stdout",
          "text": [
            "Drive already mounted at /content/drive; to attempt to forcibly remount, call drive.mount(\"/content/drive\", force_remount=True).\n"
          ]
        }
      ],
      "source": [
        "from google.colab import drive\n",
        "drive.mount(\"/content/drive\")"
      ]
    },
    {
      "cell_type": "markdown",
      "source": [
        "## Spark 설치"
      ],
      "metadata": {
        "id": "NWmov29tpc_5"
      }
    },
    {
      "cell_type": "code",
      "source": [
        "!apt-get install openjdk-8-jdk-headless\n",
        "!wget -q https://dlcdn.apache.org/spark/spark-3.5.1/spark-3.5.1-bin-hadoop3.tgz\n",
        "!tar -zxf spark-3.5.1-bin-hadoop3.tgz"
      ],
      "metadata": {
        "colab": {
          "base_uri": "https://localhost:8080/"
        },
        "id": "Rxwwd78npeX7",
        "outputId": "0bb6f1f2-f450-4ff5-f04d-b8bc7b4be83e"
      },
      "execution_count": 37,
      "outputs": [
        {
          "output_type": "stream",
          "name": "stdout",
          "text": [
            "Reading package lists... Done\n",
            "Building dependency tree... Done\n",
            "Reading state information... Done\n",
            "openjdk-8-jdk-headless is already the newest version (8u402-ga-2ubuntu1~22.04).\n",
            "0 upgraded, 0 newly installed, 0 to remove and 45 not upgraded.\n"
          ]
        }
      ]
    },
    {
      "cell_type": "code",
      "source": [
        "import os\n",
        "os.environ[\"JAVA_HOME\"] = \"/usr/lib/jvm/java-8-openjdk-amd64\"\n",
        "os.environ[\"SPARK_HOME\"] = \"/content/spark-3.5.1-bin-hadoop3\""
      ],
      "metadata": {
        "id": "0IxJQm3ApiaJ"
      },
      "execution_count": 38,
      "outputs": []
    },
    {
      "cell_type": "markdown",
      "source": [
        "- 설치버전과 동일하게 pyspark 버전 설치해야 함"
      ],
      "metadata": {
        "id": "RSMmtb3gH8xm"
      }
    },
    {
      "cell_type": "code",
      "source": [
        "!pip install findspark -q"
      ],
      "metadata": {
        "id": "4rJQpcxwpizN"
      },
      "execution_count": 39,
      "outputs": []
    },
    {
      "cell_type": "code",
      "source": [
        "import findspark\n",
        "findspark.init()"
      ],
      "metadata": {
        "id": "UtHEsyzkplCR"
      },
      "execution_count": 40,
      "outputs": []
    },
    {
      "cell_type": "code",
      "source": [
        "import pyspark\n",
        "spark_version = pyspark.__version__\n",
        "print(\"Apache Spark 버전 확인: \" + spark_version)"
      ],
      "metadata": {
        "colab": {
          "base_uri": "https://localhost:8080/"
        },
        "id": "DjhveG5wpmYB",
        "outputId": "c358691e-a6c7-41c7-8f22-03989373a955"
      },
      "execution_count": 41,
      "outputs": [
        {
          "output_type": "stream",
          "name": "stdout",
          "text": [
            "Apache Spark 버전 확인: 3.5.1\n"
          ]
        }
      ]
    },
    {
      "cell_type": "markdown",
      "source": [
        "# Spark 세션 설정"
      ],
      "metadata": {
        "id": "9Xz7RV5E8kvr"
      }
    },
    {
      "cell_type": "code",
      "source": [
        "from pyspark.sql import SparkSession\n",
        "spark = SparkSession.builder.master('local[1]').appName(\"ML\").getOrCreate()\n",
        "spark"
      ],
      "metadata": {
        "colab": {
          "base_uri": "https://localhost:8080/",
          "height": 222
        },
        "id": "wVTsGCcYQvPX",
        "outputId": "d626f323-8981-4af9-a661-78ba48e20961"
      },
      "execution_count": 42,
      "outputs": [
        {
          "output_type": "execute_result",
          "data": {
            "text/plain": [
              "<pyspark.sql.session.SparkSession at 0x78594c69a830>"
            ],
            "text/html": [
              "\n",
              "            <div>\n",
              "                <p><b>SparkSession - in-memory</b></p>\n",
              "                \n",
              "        <div>\n",
              "            <p><b>SparkContext</b></p>\n",
              "\n",
              "            <p><a href=\"http://7cefa6e5e11f:4040\">Spark UI</a></p>\n",
              "\n",
              "            <dl>\n",
              "              <dt>Version</dt>\n",
              "                <dd><code>v3.5.1</code></dd>\n",
              "              <dt>Master</dt>\n",
              "                <dd><code>local[1]</code></dd>\n",
              "              <dt>AppName</dt>\n",
              "                <dd><code>ML</code></dd>\n",
              "            </dl>\n",
              "        </div>\n",
              "        \n",
              "            </div>\n",
              "        "
            ]
          },
          "metadata": {},
          "execution_count": 42
        }
      ]
    },
    {
      "cell_type": "markdown",
      "source": [
        "# 데이터 불러오기"
      ],
      "metadata": {
        "id": "zgR6txL2SfnJ"
      }
    },
    {
      "cell_type": "code",
      "source": [
        "DATA_PATH = \"/content/drive/MyDrive/Colab Notebooks/멀티캠퍼스34/스파크/data/\"\n",
        "flights = spark.read.option('header', 'true').csv(DATA_PATH + \"flight_small.csv\")\n",
        "flights.show(1)"
      ],
      "metadata": {
        "colab": {
          "base_uri": "https://localhost:8080/"
        },
        "id": "Y19VA6jkSs2U",
        "outputId": "7c9715b2-bb4a-4e1d-f9f3-74f0a2664913"
      },
      "execution_count": 43,
      "outputs": [
        {
          "output_type": "stream",
          "name": "stdout",
          "text": [
            "+----+-----+---+--------+---------+--------+---------+-------+-------+------+------+----+--------+--------+----+------+\n",
            "|year|month|day|dep_time|dep_delay|arr_time|arr_delay|carrier|tailnum|flight|origin|dest|air_time|distance|hour|minute|\n",
            "+----+-----+---+--------+---------+--------+---------+-------+-------+------+------+----+--------+--------+----+------+\n",
            "|2014|   12|  8|     658|       -7|     935|       -5|     VX| N846VA|  1780|   SEA| LAX|     132|     954|   6|    58|\n",
            "+----+-----+---+--------+---------+--------+---------+-------+-------+------+------+----+--------+--------+----+------+\n",
            "only showing top 1 row\n",
            "\n"
          ]
        }
      ]
    },
    {
      "cell_type": "code",
      "source": [
        "planes = spark.read.option('header', 'true').csv(DATA_PATH + \"planes.csv\")\n",
        "planes.show(1)"
      ],
      "metadata": {
        "colab": {
          "base_uri": "https://localhost:8080/"
        },
        "id": "XQzgFUqJQvDB",
        "outputId": "f257b06e-c2f0-4ce9-e29c-3e47fc70d66c"
      },
      "execution_count": 44,
      "outputs": [
        {
          "output_type": "stream",
          "name": "stdout",
          "text": [
            "+-------+----+--------------------+----------------+--------+-------+-----+-----+---------+\n",
            "|tailnum|year|                type|    manufacturer|   model|engines|seats|speed|   engine|\n",
            "+-------+----+--------------------+----------------+--------+-------+-----+-----+---------+\n",
            "| N102UW|1998|Fixed wing multi ...|AIRBUS INDUSTRIE|A320-214|      2|  182|   NA|Turbo-fan|\n",
            "+-------+----+--------------------+----------------+--------+-------+-----+-----+---------+\n",
            "only showing top 1 row\n",
            "\n"
          ]
        }
      ]
    },
    {
      "cell_type": "markdown",
      "source": [
        "## 데이터 가공"
      ],
      "metadata": {
        "id": "QaUQ66rVTl5v"
      }
    },
    {
      "cell_type": "markdown",
      "source": [
        "### 1단계\n",
        "- planes의 year => plane_year로 바꾸기\n",
        "- 2개의 테이블을 join\n",
        "  + flights 기준으로 left join"
      ],
      "metadata": {
        "id": "U8gSaZ8dTocq"
      }
    },
    {
      "cell_type": "code",
      "source": [
        "# Rename\n",
        "planes = planes.withColumnRenamed(\"year\", \"plane_year\")\n",
        "\n",
        "# 2개의 테이블 Join\n",
        "model_data = flights.join(planes, on = 'tailnum', how = 'leftouter')\n",
        "model_data.show(1)"
      ],
      "metadata": {
        "colab": {
          "base_uri": "https://localhost:8080/"
        },
        "id": "ZSN8yaqDTBhy",
        "outputId": "60dd2c0b-1c65-48c6-e590-14c0a29b259e"
      },
      "execution_count": 45,
      "outputs": [
        {
          "output_type": "stream",
          "name": "stdout",
          "text": [
            "+-------+----+-----+---+--------+---------+--------+---------+-------+------+------+----+--------+--------+----+------+----------+--------------------+------------+--------+-------+-----+-----+---------+\n",
            "|tailnum|year|month|day|dep_time|dep_delay|arr_time|arr_delay|carrier|flight|origin|dest|air_time|distance|hour|minute|plane_year|                type|manufacturer|   model|engines|seats|speed|   engine|\n",
            "+-------+----+-----+---+--------+---------+--------+---------+-------+------+------+----+--------+--------+----+------+----------+--------------------+------------+--------+-------+-----+-----+---------+\n",
            "| N846VA|2014|   12|  8|     658|       -7|     935|       -5|     VX|  1780|   SEA| LAX|     132|     954|   6|    58|      2011|Fixed wing multi ...|      AIRBUS|A320-214|      2|  182|   NA|Turbo-fan|\n",
            "+-------+----+-----+---+--------+---------+--------+---------+-------+------+------+----+--------+--------+----+------+----------+--------------------+------------+--------+-------+-----+-----+---------+\n",
            "only showing top 1 row\n",
            "\n"
          ]
        }
      ]
    },
    {
      "cell_type": "markdown",
      "source": [
        "- arr_delay, air_time, month, plane_year => integer로 변경"
      ],
      "metadata": {
        "id": "3ShWQDPnVTm6"
      }
    },
    {
      "cell_type": "code",
      "source": [
        "model_data = model_data.withColumn(\"arr_delay\", model_data.arr_delay.cast(\"integer\"))\n",
        "model_data = model_data.withColumn(\"air_time\", model_data.air_time.cast(\"integer\"))\n",
        "model_data = model_data.withColumn(\"month\", model_data.month.cast(\"integer\"))\n",
        "model_data = model_data.withColumn(\"plane_year\", model_data.plane_year.cast(\"integer\"))"
      ],
      "metadata": {
        "id": "uIJgsojFV3Af"
      },
      "execution_count": 46,
      "outputs": []
    },
    {
      "cell_type": "code",
      "source": [
        "model_data.printSchema()"
      ],
      "metadata": {
        "colab": {
          "base_uri": "https://localhost:8080/"
        },
        "id": "vHZg67KqVJKX",
        "outputId": "fa4d386d-b198-4d7a-c568-2bbf5a7711fe"
      },
      "execution_count": 47,
      "outputs": [
        {
          "output_type": "stream",
          "name": "stdout",
          "text": [
            "root\n",
            " |-- tailnum: string (nullable = true)\n",
            " |-- year: string (nullable = true)\n",
            " |-- month: integer (nullable = true)\n",
            " |-- day: string (nullable = true)\n",
            " |-- dep_time: string (nullable = true)\n",
            " |-- dep_delay: string (nullable = true)\n",
            " |-- arr_time: string (nullable = true)\n",
            " |-- arr_delay: integer (nullable = true)\n",
            " |-- carrier: string (nullable = true)\n",
            " |-- flight: string (nullable = true)\n",
            " |-- origin: string (nullable = true)\n",
            " |-- dest: string (nullable = true)\n",
            " |-- air_time: integer (nullable = true)\n",
            " |-- distance: string (nullable = true)\n",
            " |-- hour: string (nullable = true)\n",
            " |-- minute: string (nullable = true)\n",
            " |-- plane_year: integer (nullable = true)\n",
            " |-- type: string (nullable = true)\n",
            " |-- manufacturer: string (nullable = true)\n",
            " |-- model: string (nullable = true)\n",
            " |-- engines: string (nullable = true)\n",
            " |-- seats: string (nullable = true)\n",
            " |-- speed: string (nullable = true)\n",
            " |-- engine: string (nullable = true)\n",
            "\n"
          ]
        }
      ]
    },
    {
      "cell_type": "markdown",
      "source": [
        "- 새로운 컬럼 추가\n",
        "  + plane_age 라는 컬럼 생성"
      ],
      "metadata": {
        "id": "CO6StSdqWF3D"
      }
    },
    {
      "cell_type": "code",
      "source": [
        "model_data = model_data.withColumn('plane_age', model_data.year - model_data.plane_year)\n",
        "model_data.show(1)"
      ],
      "metadata": {
        "colab": {
          "base_uri": "https://localhost:8080/"
        },
        "id": "ZdgJ6x0JWB1t",
        "outputId": "50ca8fa1-7e1a-4ff3-bb40-c8e583f9464d"
      },
      "execution_count": 48,
      "outputs": [
        {
          "output_type": "stream",
          "name": "stdout",
          "text": [
            "+-------+----+-----+---+--------+---------+--------+---------+-------+------+------+----+--------+--------+----+------+----------+--------------------+------------+--------+-------+-----+-----+---------+---------+\n",
            "|tailnum|year|month|day|dep_time|dep_delay|arr_time|arr_delay|carrier|flight|origin|dest|air_time|distance|hour|minute|plane_year|                type|manufacturer|   model|engines|seats|speed|   engine|plane_age|\n",
            "+-------+----+-----+---+--------+---------+--------+---------+-------+------+------+----+--------+--------+----+------+----------+--------------------+------------+--------+-------+-----+-----+---------+---------+\n",
            "| N846VA|2014|   12|  8|     658|       -7|     935|       -5|     VX|  1780|   SEA| LAX|     132|     954|   6|    58|      2011|Fixed wing multi ...|      AIRBUS|A320-214|      2|  182|   NA|Turbo-fan|      3.0|\n",
            "+-------+----+-----+---+--------+---------+--------+---------+-------+------+------+----+--------+--------+----+------+----------+--------------------+------------+--------+-------+-----+-----+---------+---------+\n",
            "only showing top 1 row\n",
            "\n"
          ]
        }
      ]
    },
    {
      "cell_type": "markdown",
      "source": [
        "- 컬럼명 is_late : 도착시간(arr_delay)을 기준으로 해서 양수가 나오면 늦음 => True/False로\n",
        "- withColumn() 내부에서 연산\n"
      ],
      "metadata": {
        "id": "560_vCSDWhks"
      }
    },
    {
      "cell_type": "code",
      "source": [
        "model_data = model_data.withColumn(\"is_late\", model_data.arr_delay > 0)\n",
        "model_data.show(10)"
      ],
      "metadata": {
        "colab": {
          "base_uri": "https://localhost:8080/"
        },
        "id": "J8i17Ld2WZfF",
        "outputId": "5a90822d-9450-459f-dc89-9b3ec720b0a0"
      },
      "execution_count": 49,
      "outputs": [
        {
          "output_type": "stream",
          "name": "stdout",
          "text": [
            "+-------+----+-----+---+--------+---------+--------+---------+-------+------+------+----+--------+--------+----+------+----------+--------------------+------------+--------+-------+-----+-----+---------+---------+-------+\n",
            "|tailnum|year|month|day|dep_time|dep_delay|arr_time|arr_delay|carrier|flight|origin|dest|air_time|distance|hour|minute|plane_year|                type|manufacturer|   model|engines|seats|speed|   engine|plane_age|is_late|\n",
            "+-------+----+-----+---+--------+---------+--------+---------+-------+------+------+----+--------+--------+----+------+----------+--------------------+------------+--------+-------+-----+-----+---------+---------+-------+\n",
            "| N846VA|2014|   12|  8|     658|       -7|     935|       -5|     VX|  1780|   SEA| LAX|     132|     954|   6|    58|      2011|Fixed wing multi ...|      AIRBUS|A320-214|      2|  182|   NA|Turbo-fan|      3.0|  false|\n",
            "| N559AS|2014|    1| 22|    1040|        5|    1505|        5|     AS|   851|   SEA| HNL|     360|    2677|  10|    40|      2006|Fixed wing multi ...|      BOEING| 737-890|      2|  149|   NA|Turbo-fan|      8.0|   true|\n",
            "| N847VA|2014|    3|  9|    1443|       -2|    1652|        2|     VX|   755|   SEA| SFO|     111|     679|  14|    43|      2011|Fixed wing multi ...|      AIRBUS|A320-214|      2|  182|   NA|Turbo-fan|      3.0|   true|\n",
            "| N360SW|2014|    4|  9|    1705|       45|    1839|       34|     WN|   344|   PDX| SJC|      83|     569|  17|     5|      1992|Fixed wing multi ...|      BOEING| 737-3H4|      2|  149|   NA|Turbo-fan|     22.0|   true|\n",
            "| N612AS|2014|    3|  9|     754|       -1|    1015|        1|     AS|   522|   SEA| BUR|     127|     937|   7|    54|      1999|Fixed wing multi ...|      BOEING| 737-790|      2|  151|   NA|Turbo-jet|     15.0|   true|\n",
            "| N646SW|2014|    1| 15|    1037|        7|    1352|        2|     WN|    48|   PDX| DEN|     121|     991|  10|    37|      1997|Fixed wing multi ...|      BOEING| 737-3H4|      2|  149|   NA|Turbo-fan|     17.0|   true|\n",
            "| N422WN|2014|    7|  2|     847|       42|    1041|       51|     WN|  1520|   PDX| OAK|      90|     543|   8|    47|      2002|Fixed wing multi ...|      BOEING| 737-7H4|      2|  140|   NA|Turbo-fan|     12.0|   true|\n",
            "| N361VA|2014|    5| 12|    1655|       -5|    1842|      -18|     VX|   755|   SEA| SFO|      98|     679|  16|    55|      2013|Fixed wing multi ...|      AIRBUS|A320-214|      2|  182|   NA|Turbo-fan|      1.0|  false|\n",
            "| N309AS|2014|    4| 19|    1236|       -4|    1508|       -7|     AS|   490|   SEA| SAN|     135|    1050|  12|    36|      2001|Fixed wing multi ...|      BOEING| 737-990|      2|  149|   NA|Turbo-jet|     13.0|  false|\n",
            "| N564AS|2014|   11| 19|    1812|       -3|    2352|       -4|     AS|    26|   SEA| ORD|     198|    1721|  18|    12|      2006|Fixed wing multi ...|      BOEING| 737-890|      2|  149|   NA|Turbo-fan|      8.0|  false|\n",
            "+-------+----+-----+---+--------+---------+--------+---------+-------+------+------+----+--------+--------+----+------+----------+--------------------+------------+--------+-------+-----+-----+---------+---------+-------+\n",
            "only showing top 10 rows\n",
            "\n"
          ]
        }
      ]
    },
    {
      "cell_type": "code",
      "source": [
        "# label column 생성 from is_late ==> integer\n",
        "# 타겟변수\n",
        "model_data = model_data.withColumn(\"label\", model_data.is_late.cast(\"integer\"))\n",
        "model_data.show(3)"
      ],
      "metadata": {
        "colab": {
          "base_uri": "https://localhost:8080/"
        },
        "id": "EzuPkQVcXWMC",
        "outputId": "29054f4e-1e01-4895-bd70-32ff6036cecb"
      },
      "execution_count": 50,
      "outputs": [
        {
          "output_type": "stream",
          "name": "stdout",
          "text": [
            "+-------+----+-----+---+--------+---------+--------+---------+-------+------+------+----+--------+--------+----+------+----------+--------------------+------------+--------+-------+-----+-----+---------+---------+-------+-----+\n",
            "|tailnum|year|month|day|dep_time|dep_delay|arr_time|arr_delay|carrier|flight|origin|dest|air_time|distance|hour|minute|plane_year|                type|manufacturer|   model|engines|seats|speed|   engine|plane_age|is_late|label|\n",
            "+-------+----+-----+---+--------+---------+--------+---------+-------+------+------+----+--------+--------+----+------+----------+--------------------+------------+--------+-------+-----+-----+---------+---------+-------+-----+\n",
            "| N846VA|2014|   12|  8|     658|       -7|     935|       -5|     VX|  1780|   SEA| LAX|     132|     954|   6|    58|      2011|Fixed wing multi ...|      AIRBUS|A320-214|      2|  182|   NA|Turbo-fan|      3.0|  false|    0|\n",
            "| N559AS|2014|    1| 22|    1040|        5|    1505|        5|     AS|   851|   SEA| HNL|     360|    2677|  10|    40|      2006|Fixed wing multi ...|      BOEING| 737-890|      2|  149|   NA|Turbo-fan|      8.0|   true|    1|\n",
            "| N847VA|2014|    3|  9|    1443|       -2|    1652|        2|     VX|   755|   SEA| SFO|     111|     679|  14|    43|      2011|Fixed wing multi ...|      AIRBUS|A320-214|      2|  182|   NA|Turbo-fan|      3.0|   true|    1|\n",
            "+-------+----+-----+---+--------+---------+--------+---------+-------+------+------+----+--------+--------+----+------+----------+--------------------+------------+--------+-------+-----+-----+---------+---------+-------+-----+\n",
            "only showing top 3 rows\n",
            "\n"
          ]
        }
      ]
    },
    {
      "cell_type": "code",
      "source": [
        "# 결측치가 있는 컬럼 제거\n",
        "model_data = model_data.filter(\"arr_delay is not NULL and dep_delay is not NULL and air_time is not NULL and plane_year is not NULL\")"
      ],
      "metadata": {
        "id": "xLG_LWqcbkjN"
      },
      "execution_count": 51,
      "outputs": []
    },
    {
      "cell_type": "markdown",
      "source": [
        "# Feature Engineering\n",
        "- PIpeline 구축\n",
        "  + VectorAssembler\n",
        "  + StringIndexer\n",
        "  + OneHotEncoder\n",
        "- 모든 input data는 숫자여야 해서, 모두 변경해야 함\n",
        "- Spark ML 클래스가 요구하는 데이터 양식에 맞춰야 함"
      ],
      "metadata": {
        "id": "HXkfLIGDcA3T"
      }
    },
    {
      "cell_type": "code",
      "source": [
        "model_data.select('carrier').show(1)\n",
        "\n",
        "# carrier => carrier_index (stringIndexer를 활용히여) => carrier_fact (OneHotEncoder를 활용하여)"
      ],
      "metadata": {
        "colab": {
          "base_uri": "https://localhost:8080/"
        },
        "id": "y_ZunfPAdL8D",
        "outputId": "76b71416-f5ad-4367-caed-6945244b4116"
      },
      "execution_count": 52,
      "outputs": [
        {
          "output_type": "stream",
          "name": "stdout",
          "text": [
            "+-------+\n",
            "|carrier|\n",
            "+-------+\n",
            "|     VX|\n",
            "+-------+\n",
            "only showing top 1 row\n",
            "\n"
          ]
        }
      ]
    },
    {
      "cell_type": "code",
      "source": [
        "from pyspark.ml.feature import StringIndexer\n",
        "from pyspark.ml.feature import OneHotEncoder\n",
        "from pyspark.ml.feature import VectorAssembler\n",
        "from pyspark.ml import Pipeline\n",
        "\n",
        "carr_indexer = StringIndexer(inputCol=\"carrier\", outputCol=\"carrier_index\")\n",
        "carr_encoder = OneHotEncoder(inputCol=\"carrier_index\", outputCol=\"carrier_fact\")\n",
        "dest_indexer = StringIndexer(inputCol=\"dest\", outputCol=\"dest_index\")\n",
        "dest_encoder = OneHotEncoder(inputCol=\"dest_index\", outputCol=\"dest_fact\")\n",
        "vec_assembler = VectorAssembler(inputCols=[\"month\", \"air_time\", \"carrier_fact\", \"dest_fact\", \"plane_age\"], outputCol=\"features\")\n",
        "\n",
        "flights_pipe = Pipeline(stages=[dest_indexer, dest_encoder, carr_indexer, carr_encoder, vec_assembler])\n",
        "piped_data = flights_pipe.fit(model_data).transform(model_data)\n",
        "piped_data.show(1)"
      ],
      "metadata": {
        "colab": {
          "base_uri": "https://localhost:8080/"
        },
        "id": "R3oGG-Pcb9n4",
        "outputId": "725e38f3-8905-4880-a5e1-35ddd2a08705"
      },
      "execution_count": 53,
      "outputs": [
        {
          "output_type": "stream",
          "name": "stdout",
          "text": [
            "+-------+----+-----+---+--------+---------+--------+---------+-------+------+------+----+--------+--------+----+------+----------+--------------------+------------+--------+-------+-----+-----+---------+---------+-------+-----+----------+--------------+-------------+--------------+--------------------+\n",
            "|tailnum|year|month|day|dep_time|dep_delay|arr_time|arr_delay|carrier|flight|origin|dest|air_time|distance|hour|minute|plane_year|                type|manufacturer|   model|engines|seats|speed|   engine|plane_age|is_late|label|dest_index|     dest_fact|carrier_index|  carrier_fact|            features|\n",
            "+-------+----+-----+---+--------+---------+--------+---------+-------+------+------+----+--------+--------+----+------+----------+--------------------+------------+--------+-------+-----+-----+---------+---------+-------+-----+----------+--------------+-------------+--------------+--------------------+\n",
            "| N846VA|2014|   12|  8|     658|       -7|     935|       -5|     VX|  1780|   SEA| LAX|     132|     954|   6|    58|      2011|Fixed wing multi ...|      AIRBUS|A320-214|      2|  182|   NA|Turbo-fan|      3.0|  false|    0|       1.0|(68,[1],[1.0])|          7.0|(10,[7],[1.0])|(81,[0,1,9,13,80]...|\n",
            "+-------+----+-----+---+--------+---------+--------+---------+-------+------+------+----+--------+--------+----+------+----------+--------------------+------------+--------+-------+-----+-----+---------+---------+-------+-----+----------+--------------+-------------+--------------+--------------------+\n",
            "only showing top 1 row\n",
            "\n"
          ]
        }
      ]
    },
    {
      "cell_type": "code",
      "source": [
        "piped_data.select('carrier', 'carrier_index', 'carrier_fact').show(20)"
      ],
      "metadata": {
        "colab": {
          "base_uri": "https://localhost:8080/"
        },
        "id": "EK6K389vd605",
        "outputId": "9224fc09-3f8e-4ca8-fd75-5d41a7b36e21"
      },
      "execution_count": 54,
      "outputs": [
        {
          "output_type": "stream",
          "name": "stdout",
          "text": [
            "+-------+-------------+--------------+\n",
            "|carrier|carrier_index|  carrier_fact|\n",
            "+-------+-------------+--------------+\n",
            "|     VX|          7.0|(10,[7],[1.0])|\n",
            "|     AS|          0.0|(10,[0],[1.0])|\n",
            "|     VX|          7.0|(10,[7],[1.0])|\n",
            "|     WN|          1.0|(10,[1],[1.0])|\n",
            "|     AS|          0.0|(10,[0],[1.0])|\n",
            "|     WN|          1.0|(10,[1],[1.0])|\n",
            "|     WN|          1.0|(10,[1],[1.0])|\n",
            "|     VX|          7.0|(10,[7],[1.0])|\n",
            "|     AS|          0.0|(10,[0],[1.0])|\n",
            "|     AS|          0.0|(10,[0],[1.0])|\n",
            "|     AS|          0.0|(10,[0],[1.0])|\n",
            "|     AS|          0.0|(10,[0],[1.0])|\n",
            "|     AS|          0.0|(10,[0],[1.0])|\n",
            "|     AS|          0.0|(10,[0],[1.0])|\n",
            "|     AS|          0.0|(10,[0],[1.0])|\n",
            "|     UA|          4.0|(10,[4],[1.0])|\n",
            "|     AS|          0.0|(10,[0],[1.0])|\n",
            "|     WN|          1.0|(10,[1],[1.0])|\n",
            "|     AS|          0.0|(10,[0],[1.0])|\n",
            "|     OO|          2.0|(10,[2],[1.0])|\n",
            "+-------+-------------+--------------+\n",
            "only showing top 20 rows\n",
            "\n"
          ]
        }
      ]
    },
    {
      "cell_type": "markdown",
      "source": [
        "## 데이터 분리"
      ],
      "metadata": {
        "id": "NKrEWnbpfVNQ"
      }
    },
    {
      "cell_type": "code",
      "source": [
        "training, test = piped_data.randomSplit([0.6, 0.4])"
      ],
      "metadata": {
        "id": "Spirw-hBfHN3"
      },
      "execution_count": 55,
      "outputs": []
    },
    {
      "cell_type": "markdown",
      "source": [
        "## 모델 생성"
      ],
      "metadata": {
        "id": "foD46sAogk_T"
      }
    },
    {
      "cell_type": "code",
      "source": [
        "from pyspark.ml.classification import LogisticRegression\n",
        "lr = LogisticRegression()"
      ],
      "metadata": {
        "id": "acvRA9Z3giEG"
      },
      "execution_count": 56,
      "outputs": []
    },
    {
      "cell_type": "markdown",
      "source": [
        "## 교차검증\n",
        "- Grid Search"
      ],
      "metadata": {
        "id": "xiht0GEZg2qv"
      }
    },
    {
      "cell_type": "code",
      "source": [
        "import pyspark.ml.tuning as tune\n",
        "import numpy as np\n",
        "\n",
        "grid = tune.ParamGridBuilder()\n",
        "\n",
        "# 파라미터 튜닝 인수 추가\n",
        "grid = grid.addGrid(lr.regParam, np.arange(0, .1, .01))\n",
        "grid = grid.addGrid(lr.elasticNetParam, [0, 1])\n",
        "\n",
        "grid = grid.build()"
      ],
      "metadata": {
        "id": "ysu4ajLYgzJh"
      },
      "execution_count": 57,
      "outputs": []
    },
    {
      "cell_type": "markdown",
      "source": [
        "- 교차검증: 평가지표 필요"
      ],
      "metadata": {
        "id": "orvcev3RiPO2"
      }
    },
    {
      "cell_type": "code",
      "source": [
        "import pyspark.ml.evaluation as evals\n",
        "evaluator = evals.BinaryClassificationEvaluator(metricName=\"areaUnderROC\")"
      ],
      "metadata": {
        "id": "B48FfPwiiEtt"
      },
      "execution_count": 58,
      "outputs": []
    },
    {
      "cell_type": "markdown",
      "source": [
        "- 교차검증 객체 만들기"
      ],
      "metadata": {
        "id": "vQ2rHy7Jib4j"
      }
    },
    {
      "cell_type": "code",
      "source": [
        "cv = tune.CrossValidator(estimator = lr,\n",
        "                         estimatorParamMaps = grid,\n",
        "                         evaluator = evaluator)\n",
        "\n",
        "cv"
      ],
      "metadata": {
        "id": "US23kpf7iY4l",
        "colab": {
          "base_uri": "https://localhost:8080/"
        },
        "outputId": "204bf57c-259f-4930-ac1d-f412110884cc"
      },
      "execution_count": 59,
      "outputs": [
        {
          "output_type": "execute_result",
          "data": {
            "text/plain": [
              "CrossValidator_4261e8b4f5ba"
            ]
          },
          "metadata": {},
          "execution_count": 59
        }
      ]
    },
    {
      "cell_type": "code",
      "source": [
        "final_lr = cv.fit(training)"
      ],
      "metadata": {
        "id": "ZamQEnHHi5Y4"
      },
      "execution_count": 60,
      "outputs": []
    },
    {
      "cell_type": "code",
      "source": [
        "test_results = final_lr.transform(test)\n",
        "test_results.show(1)"
      ],
      "metadata": {
        "id": "k0VcYc0riuOW",
        "colab": {
          "base_uri": "https://localhost:8080/"
        },
        "outputId": "5373ad04-a702-426f-bbf5-53652111a564"
      },
      "execution_count": 62,
      "outputs": [
        {
          "output_type": "stream",
          "name": "stdout",
          "text": [
            "+-------+----+-----+---+--------+---------+--------+---------+-------+------+------+----+--------+--------+----+------+----------+--------------------+----------------+--------+-------+-----+-----+---------+---------+-------+-----+----------+---------------+-------------+--------------+--------------------+--------------------+--------------------+----------+\n",
            "|tailnum|year|month|day|dep_time|dep_delay|arr_time|arr_delay|carrier|flight|origin|dest|air_time|distance|hour|minute|plane_year|                type|    manufacturer|   model|engines|seats|speed|   engine|plane_age|is_late|label|dest_index|      dest_fact|carrier_index|  carrier_fact|            features|       rawPrediction|         probability|prediction|\n",
            "+-------+----+-----+---+--------+---------+--------+---------+-------+------+------+----+--------+--------+----+------+----------+--------------------+----------------+--------+-------+-----+-----+---------+---------+-------+-----+----------+---------------+-------------+--------------+--------------------+--------------------+--------------------+----------+\n",
            "| N102UW|2014|   11|  9|    2220|       -5|     555|      -11|     US|  1930|   PDX| CLT|     257|    2282|  22|    20|      1998|Fixed wing multi ...|AIRBUS INDUSTRIE|A320-214|      2|  182|   NA|Turbo-fan|     16.0|  false|    0|      33.0|(68,[33],[1.0])|          5.0|(10,[5],[1.0])|(81,[0,1,7,45,80]...|[0.67403605291691...|[0.66240630904152...|       0.0|\n",
            "+-------+----+-----+---+--------+---------+--------+---------+-------+------+------+----+--------+--------+----+------+----------+--------------------+----------------+--------+-------+-----+-----+---------+---------+-------+-----+----------+---------------+-------------+--------------+--------------------+--------------------+--------------------+----------+\n",
            "only showing top 1 row\n",
            "\n"
          ]
        }
      ]
    },
    {
      "cell_type": "code",
      "source": [
        "evaluator.evaluate(test_results)"
      ],
      "metadata": {
        "id": "zROZBjVwjEFn",
        "colab": {
          "base_uri": "https://localhost:8080/"
        },
        "outputId": "7cbdc0a2-e9c3-49ee-a26e-8920a833f254"
      },
      "execution_count": 63,
      "outputs": [
        {
          "output_type": "execute_result",
          "data": {
            "text/plain": [
              "0.6927044743361577"
            ]
          },
          "metadata": {},
          "execution_count": 63
        }
      ]
    }
  ]
}